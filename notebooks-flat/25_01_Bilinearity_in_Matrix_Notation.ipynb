{
 "cells": [
  {
   "cell_type": "code",
   "execution_count": 1,
   "metadata": {},
   "outputs": [],
   "source": [
    "# HIDDEN\n",
    "from datascience import *\n",
    "from prob140 import *\n",
    "import matplotlib.pyplot as plt\n",
    "plt.style.use('fivethirtyeight')\n",
    "%matplotlib inline\n",
    "from scipy import stats"
   ]
  },
  {
   "cell_type": "markdown",
   "metadata": {},
   "source": [
    "## Bilinearity in Matrix Notation ##"
   ]
  },
  {
   "cell_type": "markdown",
   "metadata": {},
   "source": [
    "$$\n",
    "Var(\\mathbf{AX}) ~ = ~ \\mathbf{A}\\boldsymbol{\\Sigma}_\\mathbf{X} \\mathbf{A}^T\n",
    "$$\n",
    "\n",
    "$$\n",
    "Var(\\mathbf{a}^T\\mathbf{X} + c) = \\mathbf{a}^T \\boldsymbol{\\Sigma}_\\mathbf{X} \\mathbf{a}\n",
    "$$\n",
    "\n",
    "$$\n",
    "\\boldsymbol{\\Sigma}_{\\mathbf{X}, Y} ~ = ~ \n",
    "\\begin{bmatrix}\n",
    "\\sigma_{X_1, Y} \\\\\n",
    "\\sigma_{X_2, Y} \\\\\n",
    "\\vdots \\\\\n",
    "\\sigma_{X_n, Y}\n",
    "\\end{bmatrix}\n",
    "$$\n",
    "\n",
    "$$\n",
    "Cov(\\mathbf{a}^T\\mathbf{X} + c, Y + d) ~ = ~ \\mathbf{a}^T \\boldsymbol{\\Sigma}_{\\mathbf{X}, Y}\n",
    "$$\n",
    "\n",
    "$$\n",
    "\\boldsymbol{\\Sigma}_\\mathbf{Y, X} ~ = ~ \\boldsymbol{\\Sigma}_\\mathbf{X, Y}^T ~ = ~\n",
    "[\\sigma_{X_1, Y} ~ \\sigma_{X_2, Y} ~ \\ldots ~ \\sigma_{X_n, Y}]\n",
    "$$"
   ]
  },
  {
   "cell_type": "code",
   "execution_count": null,
   "metadata": {},
   "outputs": [],
   "source": []
  }
 ],
 "metadata": {
  "kernelspec": {
   "display_name": "Python 3",
   "language": "python",
   "name": "python3"
  },
  "language_info": {
   "codemirror_mode": {
    "name": "ipython",
    "version": 3
   },
   "file_extension": ".py",
   "mimetype": "text/x-python",
   "name": "python",
   "nbconvert_exporter": "python",
   "pygments_lexer": "ipython3",
   "version": "3.6.4"
  }
 },
 "nbformat": 4,
 "nbformat_minor": 2
}
