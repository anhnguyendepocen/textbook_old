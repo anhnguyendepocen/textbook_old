{
 "cells": [
  {
   "cell_type": "code",
   "execution_count": 1,
   "metadata": {},
   "outputs": [],
   "source": [
    "# HIDDEN\n",
    "from datascience import *\n",
    "from prob140 import *\n",
    "import matplotlib.pyplot as plt\n",
    "plt.style.use('fivethirtyeight')\n",
    "%matplotlib inline\n",
    "from scipy import stats"
   ]
  },
  {
   "cell_type": "markdown",
   "metadata": {},
   "source": [
    "## Best Linear Predictor ##"
   ]
  },
  {
   "cell_type": "markdown",
   "metadata": {},
   "source": [
    "### A Linear Predictor ###\n",
    "\n",
    "$$\n",
    "\\hat{Y}_\\mathbf{b} ~ = ~ \\mathbf{b}^T(\\mathbf{X} - \\mathbf{\\mu}_\\mathbf{X}) + \\mu_Y\n",
    "$$\n",
    "where\n",
    "$$\n",
    "\\mathbf{b} ~ = ~ \\boldsymbol{\\Sigma}_\\mathbf{X}^{-1} \\boldsymbol{\\Sigma}_{\\mathbf{X}, Y}\n",
    "$$"
   ]
  },
  {
   "cell_type": "markdown",
   "metadata": {},
   "source": [
    "### Projection ###\n",
    "$$\n",
    "W ~ = ~ Y - \\hat{Y}_\\mathbf{b}\n",
    "$$\n",
    "\n",
    "\\begin{align*}\n",
    "Cov(W, \\mathbf{a}^T\\mathbf{X}) ~ &= ~ Cov(Y - \\hat{Y}_\\mathbf{b}, \\mathbf{a}^T\\mathbf{X}) \\\\\n",
    "&= ~ Cov(Y, \\mathbf{a}^T\\mathbf{X}) - Cov(\\hat{Y}_\\mathbf{b}, \\mathbf{a}^T\\mathbf{X}) \\\\\n",
    "&= ~ Cov(Y, \\mathbf{a}^T\\mathbf{X}) - Cov(\\mathbf{b}^T\\mathbf{X}, \\mathbf{a}^T\\mathbf{X}) \\\\\n",
    "&= ~ \\mathbf{a}^T\\boldsymbol{\\Sigma}_{\\mathbf{X}, Y} - \\mathbf{a}^T\\boldsymbol{\\Sigma}_\\mathbf{X} \\mathbf{b} \\\\\n",
    "&= ~ \\mathbf{a}^T\\boldsymbol{\\Sigma}_{\\mathbf{X}, Y} - \\mathbf{a}^T\\boldsymbol{\\Sigma}_\\mathbf{X} \\boldsymbol{\\Sigma}_\\mathbf{X}^{-1}\\boldsymbol{\\Sigma}_{\\mathbf{X}, Y} \\\\\n",
    "&= ~ 0\n",
    "\\end{align*}"
   ]
  },
  {
   "cell_type": "markdown",
   "metadata": {},
   "source": [
    "### Least Squares ###\n",
    "$$\n",
    "\\hat{Y}_\\mathbf{h} ~ = ~ \\mathbf{h}^T(\\mathbf{X} - \\mathbf{\\mu}_\\mathbf{X}) + \\mu_Y\n",
    "$$"
   ]
  },
  {
   "cell_type": "code",
   "execution_count": null,
   "metadata": {},
   "outputs": [],
   "source": []
  }
 ],
 "metadata": {
  "kernelspec": {
   "display_name": "Python 3",
   "language": "python",
   "name": "python3"
  },
  "language_info": {
   "codemirror_mode": {
    "name": "ipython",
    "version": 3
   },
   "file_extension": ".py",
   "mimetype": "text/x-python",
   "name": "python",
   "nbconvert_exporter": "python",
   "pygments_lexer": "ipython3",
   "version": "3.6.4"
  }
 },
 "nbformat": 4,
 "nbformat_minor": 2
}
