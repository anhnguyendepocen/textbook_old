{
 "cells": [
  {
   "cell_type": "code",
   "execution_count": 3,
   "metadata": {
    "collapsed": true
   },
   "outputs": [],
   "source": [
    "# HIDDEN\n",
    "from datascience import *\n",
    "from prob140 import *\n",
    "import numpy as np\n",
    "import matplotlib.pyplot as plt\n",
    "plt.style.use('fivethirtyeight')\n",
    "%matplotlib inline\n",
    "import math\n",
    "from scipy import stats\n",
    "\n",
    "from matplotlib import patches\n",
    "import shapely.geometry as sg\n",
    "import descartes"
   ]
  },
  {
   "cell_type": "code",
   "execution_count": 9,
   "metadata": {
    "collapsed": false
   },
   "outputs": [],
   "source": [
    "# HIDDEN\n",
    "def show_intersection():\n",
    "    plt.figure(figsize=(5, 5))\n",
    "    # create the circles with shapely\n",
    "    a = sg.Point(-.5,0).buffer(1.0)\n",
    "    b = sg.Point(0.5,0).buffer(0.75)\n",
    "\n",
    "    # compute the 3 parts\n",
    "    left = a.difference(b)\n",
    "    right = b.difference(a)\n",
    "    middle = a.intersection(b)\n",
    "\n",
    "    # use descartes to create the matplotlib patches\n",
    "    ax = plt.subplot(111)\n",
    "    ax.add_patch(descartes.PolygonPatch(left, fc='darkblue', ec='k', alpha=0.8))\n",
    "    ax.add_patch(descartes.PolygonPatch(right, fc='gold', ec='k', alpha=0.6))\n",
    "    ax.add_patch(descartes.PolygonPatch(middle, fc='olive', ec='k', alpha=0.8))\n",
    "    ax.annotate('A', [-0.5, 0])\n",
    "    ax.annotate('B', [0.5, 0])\n",
    "\n",
    "    # control display\n",
    "    plt.title('Two Events')\n",
    "    plt.axis('off')\n",
    "    ax.set_xlim(-2, 2); ax.set_ylim(-2, 2)\n",
    "    ax.set_aspect('equal')\n"
   ]
  },
  {
   "cell_type": "markdown",
   "metadata": {},
   "source": [
    "### Union of Several Events ###\n",
    "The third axiom of probability says that if $A$ and $B$ are two mutually exclusive events, then $P(A \\cup B) = P(A)+P(B)$. We have happily extended this to the union of several mutually exclusive events and used it throughout:\n",
    "$$\n",
    "P(\\bigcup_{i=1}^n A_i) = \\sum_{i=1}^n P(A_i) ~~~ \\text{ if }\n",
    "A_iA_j = \\phi \\text{ for all } i \\ne j\n",
    "$$\n",
    "\n",
    "But we never proved the result for more than two mutually exclusive events. Let's do that now by induction. The axiom says the result is true for $n=2$, so we will assume it is true for $n$ as above and then show that \n",
    "$$\n",
    "P(\\bigcup_{i=1}^{n+1} A_i) = \\sum_{i=1}^{n+1} P(A_i) ~~~ \\text{ if }\n",
    "A_iA_j = \\phi \\text{ for all } i \\ne j\n",
    "$$\n",
    "\n",
    "The induction is straightforward.\n",
    "\n",
    "\\begin{align*}\n",
    "P(\\bigcup_{i=1}^{n+1} A_i) &= P\\big{(}(\\cup_{i=1}^n A_i)\\cup A_{n+1}\\big{)} \\\\\n",
    "&= P\\big{(}(\\cup_{i=1}^n A_i)\\big{)} + P(A_{n+1}) ~~~ \\text{(addition rule)} \\\\\n",
    "&= \\sum_{i=1}^n P(A_i) + P(A_{n+1}) ~~~~~~~ \\text{(induction hypothesis)} \\\\\n",
    "&= \\sum_{i=1}^{n+1} P(A_i)\n",
    "\\end{align*}"
   ]
  },
  {
   "cell_type": "markdown",
   "metadata": {},
   "source": [
    "### An Inclusion-Exclusion Formula ###\n",
    "How would we find the chance of a union of two events that are not mutually exclusive? The diagram below shows two such events. The union is the entire colored region: the blue, the gold, as well as the intersection."
   ]
  },
  {
   "cell_type": "code",
   "execution_count": 11,
   "metadata": {
    "collapsed": false
   },
   "outputs": [
    {
     "data": {
      "image/png": "[encoded data removed]",
      "text/plain": [
       "<matplotlib.figure.Figure at 0x117df17b8>"
      ]
     },
     "metadata": {},
     "output_type": "display_data"
    }
   ],
   "source": [
    "show_intersection()"
   ]
  },
  {
   "cell_type": "markdown",
   "metadata": {},
   "source": [
    "We can find $P(A \\cup B)$ by partitioning. A partition of $A \\cup B$ is \"all of $A$ union the part of $B$ that is not also in $A$\": \n",
    "$$\n",
    "A \\cup B = A \\cup (B \\backslash AB)\n",
    "$$\n",
    "Therefore\n",
    "\n",
    "\\begin{align*}\n",
    "P(A \\cup B) &= P(A) + P(B \\backslash AB) ~~~~~~~~~~ \\text{(addition rule)} \\\\\n",
    "&= P(A) + P(B) - P(AB) ~~~ \\text{(difference rule)}\n",
    "\\end{align*}\n",
    "\n",
    "We now have a formula for the case $n = 2$. It calculates the probability of the union of two events, by first *including* the chance of each event, and then *excluding* the chance of the intersection. This gives rise to its name:\n",
    "\n",
    "#### Inclusion-Exclusion Formula: Union of Two Events ####\n",
    "$$\n",
    "P(A \\cup B) = P(A) + P(B) - P(AB)\n",
    "$$"
   ]
  },
  {
   "cell_type": "markdown",
   "metadata": {},
   "source": [
    "### Union of $n$ Events ###\n",
    "For a general $n$, we are going to guess the formula and prove it by induction. Let $A_1, A_2, \\ldots , A_n$ be events, and let us try to find\n",
    "$$\n",
    "P\\big{(}\\bigcup_{i=1}^n A_i \\big{)}\n",
    "$$\n",
    "\n",
    "Writing will be easier if we have some rough-and-ready abbreviations of descriptions, so for example let \"all the double-intersections\" mean \"all terms of the form $P(A_iA_j)$ where $i$ and $j$ are different\".\n",
    "\n",
    "It is important to note that the set \"$1 \\le i < j \\le n$\" specifies all unordered pairs of distinct indices. If the indices are distinct, one of them has to be less than the other, so it is part of the indicated set. If $i$ and $j$ are in the set, then $i < j$, so $i$ and $j$ are distinct.\n",
    "\n",
    "In the same way, $1 \\le i < j < k \\le n$ specifies all unordered triples of distinct indices. And so on.\n",
    "\n",
    "**Guess.** Based on what we saw for two events, we will guess that the chance of the union of $n$ events can be calculated by:\n",
    "- including all the events; then\n",
    "- excluding all the double-intersections; then\n",
    "- including all the triple-intersections; and so on."
   ]
  },
  {
   "cell_type": "markdown",
   "metadata": {},
   "source": [
    "### General Inclusion-Exclusion Formula ###\n",
    "For events $A_1, A_2, \\ldots, A_n$, \n",
    "\n",
    "\\begin{align*}\n",
    "P\\big{(}\\bigcup_{i=1}^n A_i \\big{)} &=\n",
    "\\sum_{i=1}^n P(A_i) - \\mathop{\\sum \\sum}_{1 \\le i < j \\le n} P(A_iA_j)\n",
    "+ \\mathop{\\sum \\sum \\sum}_{1 \\le i < j < k \\le n} P(A_iA_jA_j) - \\cdots\n",
    "+ (-1)^{n+1} P(A_1A_2 \\ldots A_n)\n",
    "\\end{align*}"
   ]
  },
  {
   "cell_type": "markdown",
   "metadata": {},
   "source": [
    "Let's be fearless and prove this by induction. We know that it is true for $n=2$, so we must assume the induction hypothesis that it is true for $n$ as stated above and then show the following:\n",
    "\n",
    "\n",
    "\\begin{align*}\n",
    "P\\big{(}\\bigcup_{i=1}^{n+1} A_i \\big{)} &=\n",
    "\\sum_{i=1}^{n+1} P(A_i) - \\mathop{\\sum \\sum}_{1 \\le i < j \\le n+1} P(A_iA_j)\n",
    "+ \\mathop{\\sum \\sum \\sum}_{1 \\le i < j < k \\le n+1} P(A_iA_jA_j) - \\cdots\n",
    "+ (-1)^n P(A_1A_2 \\ldots A_{n+1})\n",
    "\\end{align*}\n",
    "\n",
    "The key is to observe that each sum above splits in two parts: the terms that only involve the indices 1 through $n$, and those that involve the index $n+1$.\n",
    "\n",
    "Let $B = \\bigcup_{i=1}^n A_i$. Then\n",
    "\n",
    "\\begin{align*}\n",
    "P\\big{(}\\bigcup_{i=1}^{n+1} A_i \\big{)} &= P(B \\cup A_{n+1}) \\\\\n",
    "&= P(B) + P(A_{n+1}) - P(BA_{n+1})\n",
    "\\end{align*}\n",
    "by using the result for two events.\n",
    "\n",
    "By the induction hypothesis,\n",
    "\n",
    "\\begin{align*}\n",
    "P(B) &=\n",
    "\\sum_{i=1}^n P(A_i) - \\mathop{\\sum \\sum}_{1 \\le i < j \\le n} P(A_iA_j)\n",
    "+ \\mathop{\\sum \\sum \\sum}_{1 \\le i < j < k \\le n} P(A_iA_jA_j) - \\cdots\n",
    "+ (-1)^{n+1} P(A_1A_2 \\ldots A_n)\n",
    "\\end{align*}\n",
    "\n",
    "That means we've already got all the terms that involve on the indices 1 through $n$. Now we need only the terms that involve $A_{n+1}$. We can see one of those: $P(A_{n+1})$. That completes the first term in the right hand side of what we have to prove, which is the sum of all $n+1$ probabilities.\n",
    "\n",
    "To complete the second sum, we need all terms of the form $P(A_iA_{n+1})$, and we have to remember the negative sign. These terms must come from the term $-P(BA_{n+1})$. How?\n",
    "\n",
    "Notice that\n",
    "$$\n",
    "BA_{n+1} = \\big{(}\\bigcup_{i=1}^n A_i \\big{)} \\cap A_{n+1}\n",
    "= \\bigcup_{i=1}^n A_iA_{n+1}\n",
    "$$\n",
    "\n",
    "That is a union of $n$ events, so we can use the induction hypothesis to find it by inclusion-exclusion. Notice that \n",
    "$$\n",
    "(A_iA_{n+1})\\cap(A_jA_{n+1}) = A_iA_jA_{n+1}\n",
    "$$\n",
    "\n",
    "So\n",
    "\n",
    "\\begin{align*}\n",
    "-P(BA_{n+1}) &= -P(\\bigcup_{i=1}^n A_iA_{n+1}) \\\\\n",
    "&= -\\sum_{i=1}^n P(A_iA_{n+1}) + \\mathop{\\sum \\sum}_{1 \\le i < j \\le n} P(A_iA_jA_{n+1}) + \\cdots + (-1)^n P(A_1A_2 \\ldots A_{n+1})\n",
    "\\end{align*}\n",
    "\n",
    "These are exactly the remaining terms that we need. The induction is complete."
   ]
  },
  {
   "cell_type": "markdown",
   "metadata": {},
   "source": [
    "### The Number of Terms in Each Sum ###\n",
    "To end this section we will count the number of terms in each of the sums in the inclusion-exclusion formula, so we know the extent of the work that has to be done to apply it.\n",
    "\n",
    "Here is the formula again for reference:\n",
    "\n",
    "\\begin{align*}\n",
    "P\\big{(}\\bigcup_{i=1}^n A_i \\big{)} &=\n",
    "\\sum_{i=1}^n P(A_i) - \\mathop{\\sum \\sum}_{1 \\le i < j \\le n} P(A_iA_j)\n",
    "+ \\mathop{\\sum \\sum \\sum}_{1 \\le i < j < k \\le n} P(A_iA_jA_j) - \\cdots\n",
    "+ (-1)^{n+1} P(A_1A_2 \\ldots A_n)\n",
    "\\end{align*}\n",
    "\n",
    "Clearly there are $n$ terms in the first sum. For reasons that will become clear in the next step, we will write that as\n",
    "$$\n",
    "\\binom{n}{1} = n\n",
    "$$\n",
    "\n",
    "In the second sum the terms correspond to distinct unordered pairs chosen from the indices 1 through $n$. That number is\n",
    "$$\n",
    "\\binom{n}{2} = \\frac{n(n-1)}{2}\n",
    "$$\n",
    "\n",
    "In the third sum, the number of terms is the number of sets of three:\n",
    "$$\n",
    "\\binom{n}{3} = \\frac{n(n-1)(n-2)}{3!}\n",
    "$$\n",
    "and so on.\n",
    "\n",
    "This shows that a lot of terms are being added and subtracted in the inclusion-exclusion formula. \n",
    "\n",
    "But sometimes we get lucky, and many of the terms are equal. Then the sums simplify dramatically. For a beautiful example, keep reading."
   ]
  },
  {
   "cell_type": "code",
   "execution_count": null,
   "metadata": {
    "collapsed": true
   },
   "outputs": [],
   "source": []
  }
 ],
 "metadata": {
  "anaconda-cloud": {},
  "kernelspec": {
   "display_name": "Python [Root]",
   "language": "python",
   "name": "Python [Root]"
  },
  "language_info": {
   "codemirror_mode": {
    "name": "ipython",
    "version": 3
   },
   "file_extension": ".py",
   "mimetype": "text/x-python",
   "name": "python",
   "nbconvert_exporter": "python",
   "pygments_lexer": "ipython3",
   "version": "3.5.2"
  }
 },
 "nbformat": 4,
 "nbformat_minor": 0
}
