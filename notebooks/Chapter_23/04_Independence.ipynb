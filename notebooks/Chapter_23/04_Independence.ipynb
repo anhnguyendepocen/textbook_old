{
 "cells": [
  {
   "cell_type": "code",
   "execution_count": 1,
   "metadata": {
    "collapsed": true
   },
   "outputs": [],
   "source": [
    "# HIDDEN\n",
    "from datascience import *\n",
    "from prob140 import *\n",
    "import numpy as np\n",
    "import matplotlib.pyplot as plt\n",
    "plt.style.use('fivethirtyeight')\n",
    "%matplotlib inline\n",
    "import math\n",
    "from scipy import stats"
   ]
  },
  {
   "cell_type": "markdown",
   "metadata": {},
   "source": [
    "## Independence ##"
   ]
  },
  {
   "cell_type": "markdown",
   "metadata": {},
   "source": [
    "If the elements of $\\mathbf{X}$ are mutually independent then $Cov(X_i, X_j) = 0$ for all $i \\ne j$ and hence the covariance matrix $\\boldsymbol{\\Sigma}$ is a diagonal matrix and the $i$th diagonal element is $Var(X_i)$.\n",
    "\n",
    "In the other direction, for general joint distributions zero covariance doesn't imply independence, and pairwise independence doesn't imply mutual independence. But the multivariate normal is a wonderful distribution: \n",
    "\n",
    "If $\\mathbf{X}$ is multivariate normal and its elements are pairwise uncorrelated – that is, $Cov(X_i, X_j) = 0$ for all \n",
    "$i \\ne j$ – then the elements of $\\mathbf{X}$ are mutually independent.\n",
    "\n",
    "That is, **for the multivariate normal distribution, pairwise uncorrelatedness is the same as mutual independence.**\n",
    "\n",
    "This is easy to see from the form of the density of $\\mathbf{X}$. If $\\boldsymbol{\\Sigma}$ is a diagonal matrix then so is $\\boldsymbol{\\Sigma}^{-1}$. The $i$th diagonal element of $\\boldsymbol{\\Sigma}^{-1}$ is $1/\\sigma_i^2$ where $\\sigma_i^2 = Var(X_i)$. So\n",
    "\n",
    "$$\n",
    "(\\mathbf{x} - \\boldsymbol{\\mu})\\boldsymbol{\\Sigma}^{-1} (\\mathbf{x} - \\boldsymbol{\\mu}) ~ = ~ \\sum_{i=1}^n \\frac{(x_i - \\boldsymbol{\\mu}(i))^2}{\\sigma_i^2}\n",
    "$$\n",
    "and therefore\n",
    "$$\n",
    "\\exp\\big{(} -\\frac{1}{2} (\\mathbf{x} - \\boldsymbol{\\mu})\\boldsymbol{\\Sigma}^{-1} (\\mathbf{x} - \\boldsymbol{\\mu}) \\big{)} ~ = ~ \\prod_{i=1}^n \\exp\\big{(}-\\frac{1}{2} \\big{(}\\frac{x_i - \\boldsymbol{\\mu}(i)}{\\sigma_i}\\big{)}^2\\big{)}\n",
    "$$\n",
    "\n",
    "In the constant of integration, $\\det(\\boldsymbol{\\Sigma}) = \\sigma_1^2 \\sigma_2^2 \\cdots \\sigma_n^2$.\n",
    "\n",
    "Therefore the density of $\\mathbf{X}$ is the product of the marginal normal densities."
   ]
  },
  {
   "cell_type": "markdown",
   "metadata": {},
   "source": [
    "### Indepedence of Sum and Difference ###\n",
    "Let $\\mathbf{X} = [X_1, X_2]^T$ have a bivariate normal distribution. Let $S = X_1 + X_2$ and $D = X_1 - X_2$. We know that $S$ and $D$ have a bivariate normal distribution and that\n",
    "\n",
    "$$\n",
    "Cov(S, D) ~ = ~ Var(X_1) - Var(X_2)\n",
    "$$\n",
    "\n",
    "If $X_1$ and $X_2$ have the same variance then $S$ and $D$ are uncorrelated, and hence also independent by what we have just proved."
   ]
  },
  {
   "cell_type": "code",
   "execution_count": null,
   "metadata": {
    "collapsed": true
   },
   "outputs": [],
   "source": []
  }
 ],
 "metadata": {
  "kernelspec": {
   "display_name": "Python [Root]",
   "language": "python",
   "name": "Python [Root]"
  },
  "language_info": {
   "codemirror_mode": {
    "name": "ipython",
    "version": 3
   },
   "file_extension": ".py",
   "mimetype": "text/x-python",
   "name": "python",
   "nbconvert_exporter": "python",
   "pygments_lexer": "ipython3",
   "version": "3.5.2"
  }
 },
 "nbformat": 4,
 "nbformat_minor": 0
}
